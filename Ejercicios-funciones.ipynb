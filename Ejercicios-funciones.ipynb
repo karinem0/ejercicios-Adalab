{
 "cells": [
  {
   "cell_type": "markdown",
   "metadata": {},
   "source": [
    "# Ejercicios\n",
    "\n",
    "1. Escribe una función que reciba una cadena de texto como parámetro y devuelva un diccionario con las frecuencias de cada letra en la cadena. Los espacios no deben ser considerados. \n"
   ]
  },
  {
   "cell_type": "code",
   "execution_count": 6,
   "metadata": {},
   "outputs": [
    {
     "name": "stdout",
     "output_type": "stream",
     "text": [
      "{'e': 1, 's': 2, 't': 2, 'a': 3, 'm': 2, 'o': 5, 'p': 2, 'r': 2, 'g': 1, 'n': 3, 'd': 1, 'c': 1, 'y': 1, 'h': 1}\n"
     ]
    }
   ],
   "source": [
    "frase= 'Estamos programando con Python'\n",
    "\n",
    "dicc= {}\n",
    "frase_minus= frase.lower()\n",
    "\n",
    "for letra in frase_minus:\n",
    "        if letra != ' ':\n",
    "            dicc[letra]= frase_minus.count(letra)\n",
    "            \n",
    "print(dicc)"
   ]
  },
  {
   "cell_type": "markdown",
   "metadata": {},
   "source": [
    "\n",
    "2. Escribe una función que reciba una cadena de texto como parámetro y devuelva una lista con todas las palabras que tienen más de 5 letras.\n"
   ]
  },
  {
   "cell_type": "code",
   "execution_count": 30,
   "metadata": {},
   "outputs": [],
   "source": [
    "def lista_palabras(cadena_texto):\n",
    "    palabras_largas= []\n",
    "    lista_cadena= cadena_texto.split()\n",
    "    for palabras in lista_cadena:\n",
    "        if len(palabras) > 5:\n",
    "            palabras_largas.append(palabras)\n",
    "    return palabras_largas    \n",
    "    "
   ]
  },
  {
   "cell_type": "code",
   "execution_count": 31,
   "metadata": {},
   "outputs": [
    {
     "name": "stdout",
     "output_type": "stream",
     "text": [
      "['Estamos', 'estudiando', 'Python']\n"
     ]
    }
   ],
   "source": [
    "texto = \"Estamos estudiando Python\"\n",
    "resultado = lista_palabras(texto)\n",
    "print(resultado)\n"
   ]
  },
  {
   "cell_type": "markdown",
   "metadata": {},
   "source": [
    "\n",
    "3. Crea una función que tome una lista de palabras como entrada y devuelva una lista de palabras que contengan más de una vocal.\n"
   ]
  },
  {
   "cell_type": "code",
   "execution_count": 29,
   "metadata": {},
   "outputs": [
    {
     "name": "stdout",
     "output_type": "stream",
     "text": [
      "['estudiamos', 'python', 'todos', 'los', 'dias']\n",
      "['estudiamos', 'todos', 'dias']\n"
     ]
    }
   ],
   "source": [
    "def revisar_vocal(frase2):\n",
    "    lista_mas_vocal = []\n",
    "    vocales = [\"a\",\"e\",\"i\",\"o\",\"u\"]\n",
    "    for e in frase2:\n",
    "        count_vocal = 0\n",
    "        for x in vocales:\n",
    "            if x in e:\n",
    "                count_vocal += e.count(x)\n",
    "        if count_vocal > 1:\n",
    "            lista_mas_vocal.append(e)\n",
    "               \n",
    "    return lista_mas_vocal\n",
    "        \n",
    "frase2 = input(\"introduce una frase\").lower().split()\n",
    "print(frase2)\n",
    "print(revisar_vocal(frase2))"
   ]
  },
  {
   "cell_type": "markdown",
   "metadata": {},
   "source": [
    "\n",
    "4. Crea una función que tome una lista de números y calcule la suma de todos los números pares en la lista.\n"
   ]
  },
  {
   "cell_type": "code",
   "execution_count": 28,
   "metadata": {},
   "outputs": [
    {
     "name": "stdout",
     "output_type": "stream",
     "text": [
      "[4, 6, 8]\n"
     ]
    }
   ],
   "source": [
    "def pares(lista_numeros):\n",
    "    lista_pares = []\n",
    "\n",
    "    for num in lista_numeros:\n",
    "        if num % 2 == 0:\n",
    "            lista_pares.append(num)\n",
    "    return lista_pares\n",
    "\n",
    "  \n",
    "numeros = [1, 3, 4, 6, 7, 8, 9]\n",
    "pares_num = pares(numeros)\n",
    "print(pares_num)\n"
   ]
  },
  {
   "cell_type": "markdown",
   "metadata": {},
   "source": [
    "\n",
    "5. Escribe una función que tome una lista de números como entrada y calcule el promedio de esos números.\n"
   ]
  },
  {
   "cell_type": "code",
   "execution_count": 14,
   "metadata": {},
   "outputs": [
    {
     "name": "stdout",
     "output_type": "stream",
     "text": [
      "El promedio de la lista de números es: 3.0\n"
     ]
    }
   ],
   "source": [
    "def calcular_promedio(lista_numeros): \n",
    "    if not lista_numeros:\n",
    "        return 0  # Manejo del caso de una lista vacía para evitar divisiones por cero\n",
    "    \n",
    "    suma_numeros = sum(lista_numeros)  # Suma de todos los números en la lista\n",
    "    promedio = suma_numeros / len(lista_numeros)  # Promedio = suma / cantidad de números\n",
    "    return promedio\n",
    "\n",
    "# Ejemplo de uso:\n",
    "numeros = [1, 2, 3, 4, 5]\n",
    "promedio_numeros = calcular_promedio(numeros)\n",
    "print(\"El promedio de la lista de números es:\", promedio_numeros)\n",
    "\n",
    "    "
   ]
  },
  {
   "cell_type": "markdown",
   "metadata": {},
   "source": [
    "\n",
    "6. Crea una función que determine el próximo año en el que las cifras del año de tu cumpleaños no se repitan. La función toma un año de tu cumpleaños como entrada y calcula el próximo año en el que las cifras no se repitan, es decir, todas las cifras en el año son diferentes entre sí.\n"
   ]
  },
  {
   "cell_type": "code",
   "execution_count": 32,
   "metadata": {},
   "outputs": [
    {
     "name": "stdout",
     "output_type": "stream",
     "text": [
      "El próximo año en el que las cifras no se repiten es: 2031\n"
     ]
    }
   ],
   "source": [
    "def cifras_anio(anio_cumple):\n",
    "    anio_cumple += 1\n",
    "    \n",
    "    while True:\n",
    "        fecha = set(str(anio_cumple))  # Convertimos el año en una lista de dígitos únicos\n",
    "        if len(fecha) == 4:  # Si todos los dígitos son únicos, terminamos\n",
    "            return anio_cumple\n",
    "        else:\n",
    "            anio_cumple += 1  # Pasamos al siguiente año\n",
    "\n",
    "# Ejemplo de uso\n",
    "anio_cumple = int(input(\"Ingresa el año de tu cumpleaños (formato: AAAA): \"))\n",
    "proximo_anio = cifras_anio(anio_cumple)\n",
    "print(f\"El próximo año en el que las cifras no se repiten es: {proximo_anio}\")\n",
    "        "
   ]
  },
  {
   "cell_type": "markdown",
   "metadata": {},
   "source": [
    "\n",
    "7. Crea una función que determine cuántos pasteles puedes hornear según una receta y los ingredientes disponibles. La función toma dos diccionarios como entrada: receta, que contiene los ingredientes necesarios para un pastel, y disponible, que contiene la cantidad disponible de cada ingrediente. Sus parámetros de entrada son:\n",
    "    - receta: Un diccionario que representa los ingredientes necesarios para un pastel, donde las claves son los nombres de los ingredientes y los valores son las cantidades necesarias de cada ingrediente.\n",
    "\n",
    "    - disponible: Un diccionario que representa la cantidad disponible de cada ingrediente, donde las claves son los nombres de los ingredientes y los valores son las cantidades disponibles.\n",
    "\n",
    "    ```python\n",
    "    receta1 = {'flour': 500, 'sugar': 200, 'eggs': 1}\n",
    "    ingredientes1 = {'flour': 1200, 'sugar': 1200, 'eggs': 5, 'milk': 200}\n",
    "\n",
    "    pasteles(receta1, ingredientes1)    \n",
    "    # output: con estos ingredientes solo puedo hacer 2 bizcochos\n",
    "    ```\n"
   ]
  },
  {
   "cell_type": "code",
   "execution_count": 35,
   "metadata": {},
   "outputs": [],
   "source": [
    "def pasteles(receta, disponible):\n",
    "    # Inicializamos una lista para almacenar la cantidad máxima de pasteles que podemos hacer para cada ingrediente\n",
    "    max_pasteles_por_ingrediente = []\n",
    "\n",
    "    # Iteramos sobre cada ingrediente en la receta\n",
    "    for ingrediente, cantidad_necesaria in receta.items():\n",
    "        # Si el ingrediente no está disponible, no podemos hacer ningún pastel\n",
    "        if ingrediente not in disponible:\n",
    "            print(\"No se puede hacer ningún pastel. El ingrediente\", ingrediente, \"no está disponible.\")\n",
    "            return\n",
    "\n",
    "        # Calculamos la cantidad máxima de pasteles que podemos hacer con el ingrediente actual\n",
    "        max_pasteles = disponible[ingrediente] // cantidad_necesaria\n",
    "        max_pasteles_por_ingrediente.append(max_pasteles)\n",
    "\n",
    "    # La cantidad máxima de pasteles que podemos hacer es la cantidad mínima de pasteles que podemos hacer con cualquier ingrediente\n",
    "    max_pasteles_posible = min(max_pasteles_por_ingrediente)\n",
    "    \n",
    "    print(\"Con estos ingredientes solo puedo hacer\", max_pasteles_posible, \"bizcochos\")\n"
   ]
  },
  {
   "cell_type": "markdown",
   "metadata": {},
   "source": [
    "BONUS: \n",
    "8. Crea una función llamada fibonacci que tome un número n como argumento y devuelva una lista con los primeros n números de la serie Fibonacci."
   ]
  },
  {
   "cell_type": "code",
   "execution_count": 34,
   "metadata": {},
   "outputs": [
    {
     "name": "stdout",
     "output_type": "stream",
     "text": [
      "Los primeros 45 números de la serie Fibonacci son: [0, 1, 1, 2, 3, 5, 8, 13, 21, 34, 55, 89, 144, 233, 377, 610, 987, 1597, 2584, 4181, 6765, 10946, 17711, 28657, 46368, 75025, 121393, 196418, 317811, 514229, 832040, 1346269, 2178309, 3524578, 5702887, 9227465, 14930352, 24157817, 39088169, 63245986, 102334155, 165580141, 267914296, 433494437, 701408733]\n"
     ]
    }
   ],
   "source": [
    "def fibonacci(n):\n",
    "    fibonacci_series = [0, 1]  # Inicializamos la serie Fibonacci con los dos primeros números\n",
    "    \n",
    "    # Iteramos para generar los siguientes números de la serie Fibonacci\n",
    "    for i in range(2, n):\n",
    "        fibonacci_series.append(fibonacci_series[-1] + fibonacci_series[-2])\n",
    "    \n",
    "    return fibonacci_series[:n]  # Devolvemos solo los primeros n números\n",
    "\n",
    "# Ejemplo de uso:\n",
    "n = int(input(\"Ingrese la cantidad de números de la serie Fibonacci que desea generar: \"))\n",
    "fibonacci_series = fibonacci(n)\n",
    "print(\"Los primeros\", n, \"números de la serie Fibonacci son:\", fibonacci_series)\n"
   ]
  }
 ],
 "metadata": {
  "kernelspec": {
   "display_name": "base",
   "language": "python",
   "name": "python3"
  },
  "language_info": {
   "codemirror_mode": {
    "name": "ipython",
    "version": 3
   },
   "file_extension": ".py",
   "mimetype": "text/x-python",
   "name": "python",
   "nbconvert_exporter": "python",
   "pygments_lexer": "ipython3",
   "version": "3.9.7"
  }
 },
 "nbformat": 4,
 "nbformat_minor": 2
}
