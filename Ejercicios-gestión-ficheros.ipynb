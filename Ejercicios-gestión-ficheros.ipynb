{
 "cells": [
  {
   "cell_type": "markdown",
   "metadata": {},
   "source": [
    "## Ejercicios:\n",
    "\n",
    "- Actualiza el json de personal, añadiendo un año más a la edad y experiencia de cada registro de personal.\n",
    "    \n"
   ]
  },
  {
   "cell_type": "code",
   "execution_count": 1,
   "metadata": {},
   "outputs": [],
   "source": [
    "import xml.etree.ElementTree as ET\n",
    "import json \n",
    "import pandas as pd "
   ]
  },
  {
   "cell_type": "code",
   "execution_count": 2,
   "metadata": {},
   "outputs": [],
   "source": [
    "with open('personal.json', 'r') as fichero: #Introducimos nombre de nuestro archivo json y 'r' porque lo vamos a leer 'read'.\n",
    "    personal = json.load(fichero) #Igualamos el archivo cargado a una variable para tenerlo almacenado "
   ]
  },
  {
   "cell_type": "code",
   "execution_count": 3,
   "metadata": {},
   "outputs": [
    {
     "data": {
      "text/plain": [
       "dict"
      ]
     },
     "execution_count": 3,
     "metadata": {},
     "output_type": "execute_result"
    }
   ],
   "source": [
    "type(personal)"
   ]
  },
  {
   "cell_type": "code",
   "execution_count": 5,
   "metadata": {},
   "outputs": [
    {
     "data": {
      "text/plain": [
       "{'workers': [{'nombre': 'Ana',\n",
       "   'edad': 34,\n",
       "   'experiencia': 5,\n",
       "   'nivel': 'Senior',\n",
       "   'salario': 50000,\n",
       "   'mascota': 'gatos'},\n",
       "  {'nombre': 'Eva',\n",
       "   'edad': 37,\n",
       "   'experiencia': 2,\n",
       "   'nivel': 'Mid',\n",
       "   'salario': 35000},\n",
       "  {'nombre': 'Marta',\n",
       "   'edad': 27,\n",
       "   'experiencia': 1,\n",
       "   'nivel': 'Junior',\n",
       "   'salario': 25000},\n",
       "  {'nombre': 'Paula',\n",
       "   'edad': 30,\n",
       "   'experiencia': 3,\n",
       "   'nivel': 'Mid',\n",
       "   'salario': 35000}]}"
      ]
     },
     "execution_count": 5,
     "metadata": {},
     "output_type": "execute_result"
    }
   ],
   "source": [
    "personal"
   ]
  },
  {
   "cell_type": "code",
   "execution_count": 5,
   "metadata": {},
   "outputs": [
    {
     "data": {
      "text/plain": [
       "[{'nombre': 'Ana',\n",
       "  'edad': 34,\n",
       "  'experiencia': 5,\n",
       "  'nivel': 'Senior',\n",
       "  'salario': 50000,\n",
       "  'mascota': 'gatos'},\n",
       " {'nombre': 'Eva',\n",
       "  'edad': 37,\n",
       "  'experiencia': 2,\n",
       "  'nivel': 'Mid',\n",
       "  'salario': 35000},\n",
       " {'nombre': 'Marta',\n",
       "  'edad': 27,\n",
       "  'experiencia': 1,\n",
       "  'nivel': 'Junior',\n",
       "  'salario': 25000},\n",
       " {'nombre': 'Paula',\n",
       "  'edad': 30,\n",
       "  'experiencia': 3,\n",
       "  'nivel': 'Mid',\n",
       "  'salario': 35000}]"
      ]
     },
     "execution_count": 5,
     "metadata": {},
     "output_type": "execute_result"
    }
   ],
   "source": [
    "personal['workers']\n"
   ]
  },
  {
   "cell_type": "code",
   "execution_count": 6,
   "metadata": {},
   "outputs": [
    {
     "name": "stdout",
     "output_type": "stream",
     "text": [
      "{'workers': [{'nombre': 'Ana', 'edad': 35, 'experiencia': 6, 'nivel': 'Senior', 'salario': 50000, 'mascota': 'gatos'}, {'nombre': 'Eva', 'edad': 38, 'experiencia': 3, 'nivel': 'Mid', 'salario': 35000}, {'nombre': 'Marta', 'edad': 28, 'experiencia': 2, 'nivel': 'Junior', 'salario': 25000}, {'nombre': 'Paula', 'edad': 31, 'experiencia': 4, 'nivel': 'Mid', 'salario': 35000}]}\n"
     ]
    }
   ],
   "source": [
    "for person in personal['workers']:\n",
    "     if 'edad' in person:\n",
    "        person['edad'] += 1\n",
    "        if 'experiencia' in person:\n",
    "            person['experiencia'] += 1\n",
    "            \n",
    "print(personal)"
   ]
  },
  {
   "cell_type": "markdown",
   "metadata": {},
   "source": [
    "- Cambia el nivel en función de la experiencia: Junior = 1 año, Mid = 2 o 3 años, Senior más de 4 años.\n",
    "    \n"
   ]
  },
  {
   "cell_type": "code",
   "execution_count": 7,
   "metadata": {},
   "outputs": [
    {
     "name": "stdout",
     "output_type": "stream",
     "text": [
      "{'workers': [{'nombre': 'Ana', 'edad': 35, 'experiencia': 6, 'nivel': 'Senior', 'salario': 50000, 'mascota': 'gatos'}, {'nombre': 'Eva', 'edad': 38, 'experiencia': 3, 'nivel': 'Mid', 'salario': 35000}, {'nombre': 'Marta', 'edad': 28, 'experiencia': 2, 'nivel': 'Mid', 'salario': 25000}, {'nombre': 'Paula', 'edad': 31, 'experiencia': 4, 'nivel': 'Senior', 'salario': 35000}]}\n"
     ]
    }
   ],
   "source": [
    "for person in personal['workers']:\n",
    "    if 'experiencia' in person and person['experiencia'] <= 1:\n",
    "        person['nivel'] = 'Junior'\n",
    "    elif 'experiencia' in person and 1 < person['experiencia'] <= 3:\n",
    "        person['nivel'] = 'Mid'\n",
    "    elif 'experiencia' in person and person['experiencia'] > 3:\n",
    "        person['nivel'] = 'Senior'\n",
    "\n",
    "print(personal)\n"
   ]
  },
  {
   "cell_type": "markdown",
   "metadata": {},
   "source": [
    "- Cambia el salario en base al nivel: Junior = 25.000, Mid = 35.000, Senior = 50.000\n",
    "    \n"
   ]
  },
  {
   "cell_type": "code",
   "execution_count": 13,
   "metadata": {},
   "outputs": [
    {
     "data": {
      "text/plain": [
       "[{'nombre': 'Ana',\n",
       "  'edad': 35,\n",
       "  'experiencia': 6,\n",
       "  'nivel': 'Senior',\n",
       "  'salario': 50000,\n",
       "  'mascota': 'gatos'},\n",
       " {'nombre': 'Eva',\n",
       "  'edad': 38,\n",
       "  'experiencia': 3,\n",
       "  'nivel': 'Mid',\n",
       "  'salario': 35000},\n",
       " {'nombre': 'Marta',\n",
       "  'edad': 28,\n",
       "  'experiencia': 2,\n",
       "  'nivel': 'Mid',\n",
       "  'salario': 35000},\n",
       " {'nombre': 'Paula',\n",
       "  'edad': 31,\n",
       "  'experiencia': 4,\n",
       "  'nivel': 'Senior',\n",
       "  'salario': 50000}]"
      ]
     },
     "execution_count": 13,
     "metadata": {},
     "output_type": "execute_result"
    }
   ],
   "source": [
    "personal_lista = personal['workers']\n",
    "\n",
    "for person in personal_lista:\n",
    "    if 'nivel' in person and person['nivel'] == 'Junior':\n",
    "        person['salario'] = 25000\n",
    "    elif 'nivel' in person and person['nivel'] == 'Mid':\n",
    "        person['salario'] = 35000\n",
    "    elif 'nivel' in person and person['nivel'] == 'Senior':\n",
    "        person['salario'] = 50000\n",
    "        \n",
    "personal_lista"
   ]
  },
  {
   "cell_type": "markdown",
   "metadata": {},
   "source": [
    "- Guarda el json con el nombre \"personal_actualizado.json\"\n",
    "    \n"
   ]
  },
  {
   "cell_type": "code",
   "execution_count": 14,
   "metadata": {},
   "outputs": [],
   "source": [
    "with open(\"personal_actualizado.json\", \"w\") as fichero:\n",
    "    json.dump(personal, fichero)"
   ]
  },
  {
   "cell_type": "markdown",
   "metadata": {},
   "source": [
    "-  Abre el json con Pandas."
   ]
  },
  {
   "cell_type": "code",
   "execution_count": 15,
   "metadata": {},
   "outputs": [],
   "source": [
    "df_personal = pd.read_json(\"personal_actualizado.json\")"
   ]
  },
  {
   "cell_type": "code",
   "execution_count": 16,
   "metadata": {},
   "outputs": [
    {
     "data": {
      "text/html": [
       "<div>\n",
       "<style scoped>\n",
       "    .dataframe tbody tr th:only-of-type {\n",
       "        vertical-align: middle;\n",
       "    }\n",
       "\n",
       "    .dataframe tbody tr th {\n",
       "        vertical-align: top;\n",
       "    }\n",
       "\n",
       "    .dataframe thead th {\n",
       "        text-align: right;\n",
       "    }\n",
       "</style>\n",
       "<table border=\"1\" class=\"dataframe\">\n",
       "  <thead>\n",
       "    <tr style=\"text-align: right;\">\n",
       "      <th></th>\n",
       "      <th>workers</th>\n",
       "    </tr>\n",
       "  </thead>\n",
       "  <tbody>\n",
       "    <tr>\n",
       "      <th>0</th>\n",
       "      <td>{'nombre': 'Ana', 'edad': 35, 'experiencia': 6...</td>\n",
       "    </tr>\n",
       "    <tr>\n",
       "      <th>1</th>\n",
       "      <td>{'nombre': 'Eva', 'edad': 38, 'experiencia': 3...</td>\n",
       "    </tr>\n",
       "    <tr>\n",
       "      <th>2</th>\n",
       "      <td>{'nombre': 'Marta', 'edad': 28, 'experiencia':...</td>\n",
       "    </tr>\n",
       "    <tr>\n",
       "      <th>3</th>\n",
       "      <td>{'nombre': 'Paula', 'edad': 31, 'experiencia':...</td>\n",
       "    </tr>\n",
       "  </tbody>\n",
       "</table>\n",
       "</div>"
      ],
      "text/plain": [
       "                                             workers\n",
       "0  {'nombre': 'Ana', 'edad': 35, 'experiencia': 6...\n",
       "1  {'nombre': 'Eva', 'edad': 38, 'experiencia': 3...\n",
       "2  {'nombre': 'Marta', 'edad': 28, 'experiencia':...\n",
       "3  {'nombre': 'Paula', 'edad': 31, 'experiencia':..."
      ]
     },
     "execution_count": 16,
     "metadata": {},
     "output_type": "execute_result"
    }
   ],
   "source": [
    "df_personal.head()"
   ]
  }
 ],
 "metadata": {
  "kernelspec": {
   "display_name": "base",
   "language": "python",
   "name": "python3"
  },
  "language_info": {
   "codemirror_mode": {
    "name": "ipython",
    "version": 3
   },
   "file_extension": ".py",
   "mimetype": "text/x-python",
   "name": "python",
   "nbconvert_exporter": "python",
   "pygments_lexer": "ipython3",
   "version": "3.9.7"
  }
 },
 "nbformat": 4,
 "nbformat_minor": 2
}
