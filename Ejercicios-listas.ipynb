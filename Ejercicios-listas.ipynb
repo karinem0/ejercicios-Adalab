{
 "cells": [
  {
   "cell_type": "code",
   "execution_count": 1,
   "metadata": {},
   "outputs": [],
   "source": [
    "#DEFINIR LISTAS\n",
    "#Haz una lista llamada `colores` donde almacenemos los primeros 6 colores que te vengan a la mente.\n",
    "colores=['amarillo', 'rojo', 'naranja', 'rosa', 'blanco', 'negro']"
   ]
  },
  {
   "cell_type": "code",
   "execution_count": 2,
   "metadata": {},
   "outputs": [],
   "source": [
    "#Haz una lista llamada `buses` de las líneas de autobuses que pasan por tu casa.\n",
    "buses= ['C1', 'C2', 'C3', 'C4', 'B1', 'B2']"
   ]
  },
  {
   "cell_type": "code",
   "execution_count": 3,
   "metadata": {},
   "outputs": [],
   "source": [
    "#Apunta la previsión de temperaturas máximas para todos los días de esta semana en `temperaturas`.\n",
    "Temperaturas= ['20', '17', '20', '20', '19', '18', '18']"
   ]
  },
  {
   "cell_type": "code",
   "execution_count": 4,
   "metadata": {},
   "outputs": [
    {
     "data": {
      "text/plain": [
       "['K', 'a', 'r', 'i', 'n', 'e']"
      ]
     },
     "execution_count": 4,
     "metadata": {},
     "output_type": "execute_result"
    }
   ],
   "source": [
    "# CONVERTIR A LISTAS\n",
    "#Convierte tu(s) nombre(s) a una lista `nombres` de caracteres.\n",
    "nombres= 'Karine' \n",
    "list(nombres)\n"
   ]
  },
  {
   "cell_type": "code",
   "execution_count": 5,
   "metadata": {},
   "outputs": [
    {
     "name": "stdout",
     "output_type": "stream",
     "text": [
      "['M', 'a', 'c', 'h', 'a', 'd', 'o', ' ', 'R', 'o', 's', 'a']\n"
     ]
    }
   ],
   "source": [
    "#Convierte tu(s) apellido(s) a una lista `apellidos` de caracteres.\n",
    "apellidos= 'Machado' + ' ' + 'Rosa'\n",
    "list(apellidos)\n",
    "apellidos= list(apellidos)\n",
    "print(apellidos)\n"
   ]
  },
  {
   "cell_type": "code",
   "execution_count": 6,
   "metadata": {},
   "outputs": [
    {
     "name": "stdout",
     "output_type": "stream",
     "text": [
      "El número de buses que pasan por mi casa son: 6\n"
     ]
    }
   ],
   "source": [
    "#Usar `len()`, `min()`, y `max()`\n",
    "#¿Cuántos búses pasan por tu casa?\n",
    "cantidad_buses= len(buses)\n",
    "print('El número de buses que pasan por mi casa son:', cantidad_buses)\n"
   ]
  },
  {
   "cell_type": "code",
   "execution_count": 7,
   "metadata": {},
   "outputs": [
    {
     "data": {
      "text/plain": [
       "12"
      ]
     },
     "execution_count": 7,
     "metadata": {},
     "output_type": "execute_result"
    }
   ],
   "source": [
    "#¿Cuántos caracteres hay en tu apellido(s) (inluyendo los espacios)?\n",
    "len(apellidos)\n"
   ]
  },
  {
   "cell_type": "code",
   "execution_count": 8,
   "metadata": {},
   "outputs": [
    {
     "name": "stdout",
     "output_type": "stream",
     "text": [
      "20 17\n"
     ]
    }
   ],
   "source": [
    "#¿Cuáles son las temperaturas máximas (`t_max`) y mínimas (`t_min`) para esta semana?\n",
    "t_max= max(Temperaturas)\n",
    "t_min= min(Temperaturas)\n",
    "print(t_max, t_min)"
   ]
  },
  {
   "cell_type": "code",
   "execution_count": 9,
   "metadata": {},
   "outputs": [
    {
     "data": {
      "text/plain": [
       "True"
      ]
     },
     "execution_count": 9,
     "metadata": {},
     "output_type": "execute_result"
    }
   ],
   "source": [
    "#Usar `in`, `not in`\n",
    "#Hay una 'e' en tu nombre?\n",
    "'e' in nombres"
   ]
  },
  {
   "cell_type": "code",
   "execution_count": 10,
   "metadata": {},
   "outputs": [
    {
     "data": {
      "text/plain": [
       "True"
      ]
     },
     "execution_count": 10,
     "metadata": {},
     "output_type": "execute_result"
    }
   ],
   "source": [
    "#Tienes el color 'rosa' en la lista de colores?\n",
    "'rosa' in colores"
   ]
  },
  {
   "cell_type": "code",
   "execution_count": 11,
   "metadata": {},
   "outputs": [
    {
     "data": {
      "text/plain": [
       "True"
      ]
     },
     "execution_count": 11,
     "metadata": {},
     "output_type": "execute_result"
    }
   ],
   "source": [
    "#¿Tiene una 'x' tu nombre? (Usa `not in`)\n",
    "'X' not in nombres"
   ]
  },
  {
   "cell_type": "code",
   "execution_count": 12,
   "metadata": {},
   "outputs": [
    {
     "name": "stdout",
     "output_type": "stream",
     "text": [
      "['20', '17', '20', '20', '19', '18', '18'] ['20', '17', '20', '20', '19', '18', '18']\n"
     ]
    }
   ],
   "source": [
    "#Hacer copias y borrar sus contenidos\n",
    "#Copia el contenido de `temperaturas` a `temperaturas2`, y `temperaturas3`.\n",
    "temperaturas2= Temperaturas.copy()\n",
    "temperaturas3= Temperaturas.copy()\n",
    "print(temperaturas2, temperaturas3)"
   ]
  },
  {
   "cell_type": "code",
   "execution_count": 13,
   "metadata": {},
   "outputs": [
    {
     "name": "stdout",
     "output_type": "stream",
     "text": [
      "[]\n"
     ]
    }
   ],
   "source": [
    "#Vacía el contenido de la variable `temperaturas2`\n",
    "temperaturas2.clear()\n",
    "print(temperaturas2)"
   ]
  },
  {
   "cell_type": "code",
   "execution_count": 14,
   "metadata": {},
   "outputs": [
    {
     "name": "stdout",
     "output_type": "stream",
     "text": [
      "['20', '17', '20', '20', '19', '18', '18'] []\n"
     ]
    }
   ],
   "source": [
    "#Imprime el contenido de `temperaturas` y `temperaturas2`.\n",
    "print(Temperaturas, temperaturas2)"
   ]
  },
  {
   "cell_type": "code",
   "execution_count": 15,
   "metadata": {},
   "outputs": [
    {
     "name": "stdout",
     "output_type": "stream",
     "text": [
      "['K', 'a', 'r', 'i', 'n', 'e']\n"
     ]
    }
   ],
   "source": [
    "#Copia el contenido de `nombres` a `nombres2`.\n",
    "nombres2= list(nombres).copy()\n",
    "print(nombres2)"
   ]
  },
  {
   "cell_type": "code",
   "execution_count": 16,
   "metadata": {},
   "outputs": [
    {
     "name": "stdout",
     "output_type": "stream",
     "text": [
      "['M', 'a', 'c', 'h', 'a', 'd', 'o', ' ', 'R', 'o', 's', 'a']\n"
     ]
    }
   ],
   "source": [
    "#Copia el contenido de `apellidos` a `apellidos2`.\n",
    "apellidos2= list(apellidos).copy()\n",
    "print(apellidos2)"
   ]
  },
  {
   "cell_type": "code",
   "execution_count": 17,
   "metadata": {},
   "outputs": [
    {
     "name": "stdout",
     "output_type": "stream",
     "text": [
      "['20', '20', '20', '19', '18', '18', '17']\n"
     ]
    }
   ],
   "source": [
    "#Cambiar el orden de los contenidos\n",
    "#Ordena la variable `temperaturas3` de mayor a menor.\n",
    "temperaturas3.sort()\n",
    "temperaturas3.reverse()\n",
    "print(temperaturas3)   #usamos sort y reverse para lograr que se organice de mayor a menor. "
   ]
  },
  {
   "cell_type": "code",
   "execution_count": 18,
   "metadata": {},
   "outputs": [
    {
     "name": "stdout",
     "output_type": "stream",
     "text": [
      "['K', 'a', 'e', 'i', 'n', 'r']\n",
      "[' ', 'M', 'R', 'a', 'a', 'a', 'c', 'd', 'h', 'o', 'o', 's']\n"
     ]
    }
   ],
   "source": [
    "#Ordena los caracteres de tu nombre y tu apellido en las listas `nombres2` y `apellidos2`. Imprime el resultado y investiga: ¿qué orden ha cogido? ¿Cómo trata las mayúsculas?\n",
    "nombres2.sort()\n",
    "print(nombres2)   #Su orden es espacios > mayúsculas > vocales > consonantes (letras en orden alfabético)\n",
    "apellidos.sort()\n",
    "print(apellidos)"
   ]
  },
  {
   "cell_type": "code",
   "execution_count": 19,
   "metadata": {},
   "outputs": [
    {
     "name": "stdout",
     "output_type": "stream",
     "text": [
      "1\n",
      "0\n"
     ]
    }
   ],
   "source": [
    "#Contar duplicados\n",
    "#¿Cuántas 'a' tiene tu nombre? ¿Y cuántas 'o'?\n",
    "print(nombres.count('a'))\n",
    "print(nombres.count('o'))"
   ]
  },
  {
   "cell_type": "code",
   "execution_count": 20,
   "metadata": {},
   "outputs": [
    {
     "name": "stdout",
     "output_type": "stream",
     "text": [
      "1\n",
      "0\n"
     ]
    }
   ],
   "source": [
    "#Verifica si los resultados de ejercicio 19 son iguales para la lista `nombres2`.\n",
    "print(nombres2.count('a'))\n",
    "print(nombres2.count('o'))"
   ]
  },
  {
   "cell_type": "code",
   "execution_count": 21,
   "metadata": {},
   "outputs": [
    {
     "name": "stdout",
     "output_type": "stream",
     "text": [
      "3\n",
      "1\n"
     ]
    }
   ],
   "source": [
    "#¿Cuántas veces esta semana llega la temperatura a la `t_max`? ¿Y cuántas a la `t_min`?\n",
    "print(Temperaturas.count(t_max))\n",
    "print(Temperaturas.count(t_min))"
   ]
  },
  {
   "cell_type": "code",
   "execution_count": 22,
   "metadata": {},
   "outputs": [],
   "source": [
    "#Definir otra lista\n",
    "#La lista dias_en contiene 'monday', 'tuesday', 'wednesday', 'thursday', 'friday', 'saturday', y 'sunday'.\n",
    "dias_en= ['monday','tuesday', 'wednesday', 'thursday', 'friday', 'saturday', 'sunday']"
   ]
  },
  {
   "cell_type": "code",
   "execution_count": 23,
   "metadata": {},
   "outputs": [
    {
     "name": "stdout",
     "output_type": "stream",
     "text": [
      "[10, 10, 13, 14, 12, 15, 12, 11, 13, 17, 18, 15, 15, 17, 17, 13, 13, 11, 12, 10, 12, 14, 12, 12, 11, 12, 16, 16, 14, 17, 18]\n"
     ]
    }
   ],
   "source": [
    "#Define temperaturas_diciembre 👇🏽:\n",
    "temperaturas_diciembre = [10, 10, 13, 14, 12, 15, 12, 11, 13, 17, 18, 15, 15, 17, 17, 13, 13, 11, 12, 10, 12, 14, 12, 12, 11, 12, 16, 16, 14, 17, 18]\n",
    "print(temperaturas_diciembre)"
   ]
  },
  {
   "cell_type": "code",
   "execution_count": 30,
   "metadata": {},
   "outputs": [
    {
     "name": "stdout",
     "output_type": "stream",
     "text": [
      "saturday\n"
     ]
    }
   ],
   "source": [
    "#Indexación de listas\n",
    "  #24. ¿Cuál es el penúltimo día de la semana?\n",
    "print(dias_en[5])\n"
   ]
  },
  {
   "cell_type": "code",
   "execution_count": 32,
   "metadata": {},
   "outputs": [
    {
     "name": "stdout",
     "output_type": "stream",
     "text": [
      "18\n"
     ]
    }
   ],
   "source": [
    "#25. ¿Cuál es el último elemento de la lista de temperaturas de diciembre? \n",
    "print(temperaturas_diciembre[-1])"
   ]
  },
  {
   "cell_type": "code",
   "execution_count": 36,
   "metadata": {},
   "outputs": [
    {
     "name": "stdout",
     "output_type": "stream",
     "text": [
      "True\n",
      "4\n"
     ]
    }
   ],
   "source": [
    "#27. ¿Está 'friday' en la lista de días en inglés? Si está, ¿dónde?\n",
    "print('friday' in dias_en)\n",
    "print(dias_en.index('friday'))"
   ]
  },
  {
   "cell_type": "code",
   "execution_count": 39,
   "metadata": {},
   "outputs": [
    {
     "data": {
      "text/plain": [
       "18"
      ]
     },
     "execution_count": 39,
     "metadata": {},
     "output_type": "execute_result"
    }
   ],
   "source": [
    "#28. ¿Cuál era la temperatura máxima en diciembre?\n",
    "max(temperaturas_diciembre)"
   ]
  },
  {
   "cell_type": "code",
   "execution_count": 43,
   "metadata": {},
   "outputs": [
    {
     "name": "stdout",
     "output_type": "stream",
     "text": [
      "False\n",
      "2\n"
     ]
    }
   ],
   "source": [
    "#29. Encuentra el índice de 'miércoles' en dias_es.\n",
    "print('miercoles' in dias_en) #miercoles no se encuentra en la lista, en cambio 'wednesday si. Si buscamos con index el indice de miercoles nos da error y nos dice que no aparece en la lista\n",
    "print(dias_en.index('wednesday'))"
   ]
  },
  {
   "cell_type": "code",
   "execution_count": 44,
   "metadata": {},
   "outputs": [
    {
     "name": "stdout",
     "output_type": "stream",
     "text": [
      "La temperatura máxima esta semana será 14 ºC, que ocurrirá en 1 días(s). El día más frío tendrá una temperatura máxima de 10 ºC, que ocurrirá en 2 día(s).\n"
     ]
    }
   ],
   "source": [
    "#Bonus\n",
    "  #30. Imprime esta frase en pantalla: 'La temperatura máxima esta semana será 14 ºC, que ocurrirá en 1 días(s). El día más frío tendrá una temperatura máxima de 10 ºC, que ocurrirá en 2 día(s).'\n",
    "print('La temperatura máxima esta semana será 14 ºC, que ocurrirá en 1 días(s). El día más frío tendrá una temperatura máxima de 10 ºC, que ocurrirá en 2 día(s).')"
   ]
  }
 ],
 "metadata": {
  "kernelspec": {
   "display_name": "base",
   "language": "python",
   "name": "python3"
  },
  "language_info": {
   "codemirror_mode": {
    "name": "ipython",
    "version": 3
   },
   "file_extension": ".py",
   "mimetype": "text/x-python",
   "name": "python",
   "nbconvert_exporter": "python",
   "pygments_lexer": "ipython3",
   "version": "3.9.7"
  }
 },
 "nbformat": 4,
 "nbformat_minor": 2
}
