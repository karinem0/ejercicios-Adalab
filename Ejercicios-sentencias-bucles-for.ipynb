{
 "cells": [
  {
   "cell_type": "markdown",
   "metadata": {},
   "source": [
    "# Ejercicios\n",
    "\n",
    "\n",
    "1. Usando la siguiente lista: \n",
    "    ```python\n",
    "    temperaturas = [2,45,67,23, 45,66,12,1,34,67,99,98,67,64, 44, 100]\n",
    "    ```\n",
    "\n",
    "    Crea tres listas nuevas, donde: \n",
    "\n",
    "    - En la primera tengamos temperaturas entre 0 - 10, llama a la nueva lista `bajas_temp`.\n",
    "\n",
    "    - En la segunda tengamos temperaturas entre 11- 20, llama a la nueva lista `medias_temp`.\n",
    "\n",
    "    - En la tercera tengamos temperaturas por encima de 20, llama a la nueva lista `altas_temp`\n",
    "    \n"
   ]
  },
  {
   "cell_type": "code",
   "execution_count": 1,
   "metadata": {},
   "outputs": [
    {
     "name": "stdout",
     "output_type": "stream",
     "text": [
      "La lista de temperaturas entre 0-10 es: [2, 1]\n",
      "La lista de temperaturas entre 11-20 es: [12]\n",
      "La lista de temperaturas superior a 20 es: [45, 67, 23, 45, 66, 34, 67, 99, 98, 67, 64, 44, 100]\n"
     ]
    }
   ],
   "source": [
    "temperaturas = [2,45,67,23, 45,66,12,1,34,67,99,98,67,64, 44, 100]\n",
    "bajas_temp= [temperatura for temperatura in temperaturas if 0<= temperatura <= 10]\n",
    "print('La lista de temperaturas entre 0-10 es:', bajas_temp)\n",
    "medias_temp= [temperatura for temperatura in temperaturas if 11 <= temperatura <= 20]\n",
    "print('La lista de temperaturas entre 11-20 es:', medias_temp)\n",
    "altas_temp= [temperatura for temperatura in temperaturas if temperatura >20]\n",
    "print('La lista de temperaturas superior a 20 es:', altas_temp)\n",
    "\n"
   ]
  },
  {
   "cell_type": "markdown",
   "metadata": {},
   "source": [
    "2. Las temperaturas están grados centígrados. Para cada una de las listas creadas en el ejercicio anterior, convertid las temperaturas a grados fahrenheit\n",
    "    ```\n",
    "    # la relacion de grados celsius y fahrenheit es:\n",
    "    (0 °C × 9 / 5) + 32 = 32 °F\n",
    "    ```"
   ]
  },
  {
   "cell_type": "code",
   "execution_count": 4,
   "metadata": {},
   "outputs": [
    {
     "name": "stdout",
     "output_type": "stream",
     "text": [
      "Temperaturas en grados Fahrenheit: [35.6, 33.8] [53.6] [113.0, 152.6, 73.4, 113.0, 150.8, 93.2, 152.6, 210.2, 208.4, 152.6, 147.2, 111.2, 212.0]\n"
     ]
    }
   ],
   "source": [
    "# la relacion de grados celsius y fahrenheit es:\n",
    "#(0 °C × 9 / 5) + 32 = 32 °F\n",
    "\n",
    "# Función para convertir grados Celsius a grados Fahrenheit\n",
    "\n",
    "bajas_temp \n",
    "medias_temp\n",
    "altas_temp\n",
    "\n",
    "def celsius_a_fahrenheit(celsius):\n",
    "    return (celsius * 9/5) + 32\n",
    "\n",
    "temperaturas_fahrenheit_bajas = [celsius_a_fahrenheit(temp) for temp in bajas_temp]\n",
    "temperaturas_fahrenheit_medias = [celsius_a_fahrenheit(temp) for temp in medias_temp]\n",
    "temperaturas_fahrenheit_altas = [celsius_a_fahrenheit(temp) for temp in altas_temp]\n",
    "\n",
    "\n",
    "# Imprimir las temperaturas en grados Fahrenheit\n",
    "print(\"Temperaturas en grados Fahrenheit:\", temperaturas_fahrenheit_bajas, temperaturas_fahrenheit_medias, temperaturas_fahrenheit_altas)"
   ]
  },
  {
   "cell_type": "markdown",
   "metadata": {},
   "source": [
    "\n",
    "3. Define e imprime un rango de 0 a 6 (excluido).\n",
    "  \n"
   ]
  },
  {
   "cell_type": "code",
   "execution_count": 9,
   "metadata": {},
   "outputs": [
    {
     "name": "stdout",
     "output_type": "stream",
     "text": [
      "0\n",
      "1\n",
      "2\n",
      "3\n",
      "4\n",
      "5\n"
     ]
    }
   ],
   "source": [
    "for numero in range(6):\n",
    "    print(numero)"
   ]
  },
  {
   "cell_type": "markdown",
   "metadata": {},
   "source": [
    "4. Define e imprime un rango de 3 a 6 ambos incluidos.\n",
    "  \n"
   ]
  },
  {
   "cell_type": "code",
   "execution_count": 10,
   "metadata": {},
   "outputs": [
    {
     "name": "stdout",
     "output_type": "stream",
     "text": [
      "3\n",
      "4\n",
      "5\n",
      "6\n"
     ]
    }
   ],
   "source": [
    "for numero in range (3,7):\n",
    "    print(numero)"
   ]
  },
  {
   "cell_type": "markdown",
   "metadata": {},
   "source": [
    "5. Define e imprime un rango de 5 a 9 ambos excluidos.\n"
   ]
  },
  {
   "cell_type": "code",
   "execution_count": 11,
   "metadata": {},
   "outputs": [
    {
     "name": "stdout",
     "output_type": "stream",
     "text": [
      "4\n",
      "5\n",
      "6\n",
      "7\n",
      "8\n"
     ]
    }
   ],
   "source": [
    "for numero in range(4,9):\n",
    "    print(numero)"
   ]
  },
  {
   "cell_type": "markdown",
   "metadata": {},
   "source": [
    "\n",
    "6. Define e imprime un rango de 3 números que empiece en 2.\n"
   ]
  },
  {
   "cell_type": "code",
   "execution_count": 12,
   "metadata": {},
   "outputs": [
    {
     "name": "stdout",
     "output_type": "stream",
     "text": [
      "2\n",
      "3\n",
      "4\n"
     ]
    }
   ],
   "source": [
    "inicio = 2\n",
    "fin = inicio + 3\n",
    "\n",
    "for numero in range(inicio, fin):\n",
    "    print(numero)\n"
   ]
  },
  {
   "cell_type": "markdown",
   "metadata": {},
   "source": [
    "\n",
    "7. Define e imprime un rango que empiece en 2, aumentando cada paso por 3, que pare antes de llegar al número 13.\n"
   ]
  },
  {
   "cell_type": "code",
   "execution_count": 13,
   "metadata": {},
   "outputs": [
    {
     "name": "stdout",
     "output_type": "stream",
     "text": [
      "2\n",
      "5\n",
      "8\n",
      "11\n"
     ]
    }
   ],
   "source": [
    "for numero in range(2, 13, 3):\n",
    "       print(numero)\n",
    "\n",
    "        \n",
    "    "
   ]
  },
  {
   "cell_type": "markdown",
   "metadata": {},
   "source": [
    "\n",
    "8. Define e imprime un rango con todos los valores impares que hay hasta 10.\n"
   ]
  },
  {
   "cell_type": "code",
   "execution_count": 14,
   "metadata": {},
   "outputs": [
    {
     "name": "stdout",
     "output_type": "stream",
     "text": [
      "1\n",
      "3\n",
      "5\n",
      "7\n",
      "9\n"
     ]
    }
   ],
   "source": [
    "for numero in range(1,10, 2):\n",
    "    print(numero)"
   ]
  },
  {
   "cell_type": "markdown",
   "metadata": {},
   "source": [
    "9. Crea una lista nueva donde tengamos los números de la lista `temperaturas` elevados al cuadrado. "
   ]
  },
  {
   "cell_type": "code",
   "execution_count": 15,
   "metadata": {},
   "outputs": [
    {
     "name": "stdout",
     "output_type": "stream",
     "text": [
      "[4, 2025, 4489, 529, 2025, 4356, 144, 1, 1156, 4489, 9801, 9604, 4489, 4096, 1936, 10000]\n"
     ]
    }
   ],
   "source": [
    "nuevas_temperaturas = [temperatura ** 2 for temperatura in temperaturas]\n",
    "print(nuevas_temperaturas)"
   ]
  },
  {
   "cell_type": "markdown",
   "metadata": {},
   "source": [
    "\n",
    "10. Crea una lista nueva donde tengamos el resto de la división de cada uno de los números entre 2.  \n"
   ]
  },
  {
   "cell_type": "code",
   "execution_count": 16,
   "metadata": {},
   "outputs": [
    {
     "name": "stdout",
     "output_type": "stream",
     "text": [
      "[0, 1, 1, 1, 1, 0, 0, 1, 0, 1, 1, 0, 1, 0, 0, 0]\n"
     ]
    }
   ],
   "source": [
    "resto = [numero % 2 for  numero in nuevas_temperaturas]\n",
    "print(resto)"
   ]
  },
  {
   "cell_type": "markdown",
   "metadata": {},
   "source": [
    "\n",
    "11. Crea una lista nueva donde tengamos solo los elementos pares de la lista `temperaturas`. \n"
   ]
  },
  {
   "cell_type": "code",
   "execution_count": 17,
   "metadata": {},
   "outputs": [
    {
     "name": "stdout",
     "output_type": "stream",
     "text": [
      "[2, 66, 12, 34, 98, 64, 44, 100]\n"
     ]
    }
   ],
   "source": [
    "pares = [temperatura for temperatura in temperaturas if temperatura % 2 == 0]\n",
    "print(pares)"
   ]
  },
  {
   "cell_type": "markdown",
   "metadata": {},
   "source": [
    "\n",
    "12. Crea una lista nueva donde tengamos solo los elementos que sean menores que 50. \n"
   ]
  },
  {
   "cell_type": "code",
   "execution_count": 18,
   "metadata": {},
   "outputs": [
    {
     "name": "stdout",
     "output_type": "stream",
     "text": [
      "[2, 45, 23, 45, 12, 1, 34, 44]\n"
     ]
    }
   ],
   "source": [
    "menores = [numero for numero in temperaturas if numero < 50]\n",
    "print(menores)"
   ]
  },
  {
   "cell_type": "markdown",
   "metadata": {},
   "source": [
    "\n",
    "13. Crea una lista donde tengamos los valores \"par\" e \"impar\" en función de los valores de la lista original. La lista resultante tiene que ser como la que indicamos a continuación: \n",
    "\n",
    "    ```python\n",
    "    lista_strings = [\"par\",\"impar\",\"impar\",\"impar\", \"impar\",\"par\",\"par\",\"impar\",\"par\",\"impar\",\"impar\",\"par\",\"impar\",\"par\", \"par\", \"par\"]\n",
    "    ```\n"
   ]
  },
  {
   "cell_type": "code",
   "execution_count": 10,
   "metadata": {},
   "outputs": [
    {
     "name": "stdout",
     "output_type": "stream",
     "text": [
      "['par', 'impar', 'impar', 'impar', 'impar', 'impar', 'par', 'impar', 'par', 'impar', 'par', 'par', 'impar', 'par', 'impar', 'impar', 'par', 'par', 'par', 'impar']\n"
     ]
    }
   ],
   "source": [
    "# Definir la lista original\n",
    "lista = [2, 3, 5, 7, 9, 11, 12, 13, 14, 15, 16, 20, 21, 22, 23, 25, 26, 28, 30, 33]\n",
    "\n",
    "# Crear una lista donde almacenaremos \"par\" o \"impar\" en función de los valores de la lista original\n",
    "lista_strings = []\n",
    "\n",
    "# Iterar sobre los números en la lista original\n",
    "for numero in lista:\n",
    "    # Verificar si el número es par o impar\n",
    "    if numero % 2 == 0:\n",
    "        lista_strings.append(\"par\")\n",
    "    else:\n",
    "        lista_strings.append(\"impar\")\n",
    "\n",
    "# Imprimir la lista resultante\n",
    "print(lista_strings)\n"
   ]
  },
  {
   "cell_type": "markdown",
   "metadata": {},
   "source": [
    "\n",
    "14. Pide al usuario un número entero positivo y suma los números pares e impares por separado hasta ese número.\n"
   ]
  },
  {
   "cell_type": "code",
   "execution_count": 9,
   "metadata": {},
   "outputs": [
    {
     "name": "stdout",
     "output_type": "stream",
     "text": [
      "La suma de los números pares hasta 45 es: 506\n",
      "La suma de los números impares hasta 45 es: 529\n"
     ]
    }
   ],
   "source": [
    "\n",
    "numero_usuario = int(input('Inserte un número entero positivo: '))\n",
    "\n",
    "suma_pares = 0\n",
    "suma_impares = 0\n",
    "\n",
    "# Itera desde 1 hasta el número ingresado por el usuario (inclusive)\n",
    "for numero in range(1, numero_usuario + 1):\n",
    "    if numero % 2 == 0:\n",
    "        suma_pares += numero\n",
    "    else:\n",
    "        suma_impares += numero\n",
    "\n",
    "print(\"La suma de los números pares hasta\", numero_usuario, \"es:\", suma_pares)\n",
    "print(\"La suma de los números impares hasta\", numero_usuario, \"es:\", suma_impares)\n"
   ]
  },
  {
   "cell_type": "markdown",
   "metadata": {},
   "source": [
    "\n",
    "15. Pide al usuario ingresar una cadena y cuenta cuántas veces aparece cada vocal (a, e, i, o, u) en la cadena."
   ]
  },
  {
   "cell_type": "code",
   "execution_count": null,
   "metadata": {},
   "outputs": [
    {
     "name": "stdout",
     "output_type": "stream",
     "text": [
      "a\n"
     ]
    }
   ],
   "source": [
    "palabra = input('Inserte una palabra:')\n",
    "vocal = ('a','e','i', 'o', 'u')\n",
    "for vocal in palabra:\n",
    "    palabra.count(vocal)\n",
    "print(vocal)\n",
    "    "
   ]
  }
 ],
 "metadata": {
  "kernelspec": {
   "display_name": "base",
   "language": "python",
   "name": "python3"
  },
  "language_info": {
   "codemirror_mode": {
    "name": "ipython",
    "version": 3
   },
   "file_extension": ".py",
   "mimetype": "text/x-python",
   "name": "python",
   "nbconvert_exporter": "python",
   "pygments_lexer": "ipython3",
   "version": "3.9.7"
  }
 },
 "nbformat": 4,
 "nbformat_minor": 2
}
