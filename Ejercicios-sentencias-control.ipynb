{
 "cells": [
  {
   "cell_type": "code",
   "execution_count": 1,
   "metadata": {},
   "outputs": [
    {
     "name": "stdout",
     "output_type": "stream",
     "text": [
      "8 2 8\n"
     ]
    }
   ],
   "source": [
    "# Ejercicios  \n",
    "\n",
    "#1.Crea las siguientes variables:\n",
    "#`var1` sea un número con el valor `8`.\n",
    "# `var2` sea un número con el valor `2`.\n",
    "# `var3` sea un número con el valor `8`.\n",
    "var1= 8\n",
    "var2= 2\n",
    "var3= 8 \n",
    "print(var1, var2, var3)"
   ]
  },
  {
   "cell_type": "code",
   "execution_count": 41,
   "metadata": {},
   "outputs": [
    {
     "name": "stdout",
     "output_type": "stream",
     "text": [
      "¡Es enorme!\n"
     ]
    }
   ],
   "source": [
    "#2.Comprueba si `var1` es mayor que 6, y si es así imprime `¡Es enorme!`.\n",
    "if var1 > 6: 'si var1 es mayor que 6'\n",
    "print('¡Es enorme!')"
   ]
  },
  {
   "cell_type": "code",
   "execution_count": 42,
   "metadata": {},
   "outputs": [
    {
     "name": "stdout",
     "output_type": "stream",
     "text": [
      "¡Es enorme también!\n"
     ]
    }
   ],
   "source": [
    "#3.Comprueba si `var2` es mayor que 6, y si es así imprime `¡Es enorme también!`.\n",
    "if var2 > 6: 'si var2 es mayor que 6'\n",
    "print('¡Es enorme también!')"
   ]
  },
  {
   "cell_type": "code",
   "execution_count": 43,
   "metadata": {},
   "outputs": [
    {
     "name": "stdout",
     "output_type": "stream",
     "text": [
      "¡Es enorme!\n",
      "¡Pero de verdad!\n"
     ]
    }
   ],
   "source": [
    "#4.Comprueba si `var3` es mayor que 6, y si es así imprime `¡Es enorme!` seguido por `¡Pero de verdad!` en otra línea (deberéis tener dos *print*).\n",
    "if var3 > 6: 'si var3 es mayor que 6'\n",
    "print('¡Es enorme!')\n",
    "print('¡Pero de verdad!')"
   ]
  },
  {
   "cell_type": "code",
   "execution_count": 44,
   "metadata": {},
   "outputs": [
    {
     "name": "stdout",
     "output_type": "stream",
     "text": [
      "Son iguales\n"
     ]
    }
   ],
   "source": [
    "#5.Comprueba si `var1` es igual que `var3`, y si es así imprime `Son iguales.`.\n",
    "if var1 == var3: 'si var1 es igual que var3'\n",
    "print('Son iguales')"
   ]
  },
  {
   "cell_type": "code",
   "execution_count": 45,
   "metadata": {},
   "outputs": [
    {
     "name": "stdout",
     "output_type": "stream",
     "text": [
      "son iguales\n"
     ]
    }
   ],
   "source": [
    "#6.Comprueba si `var1` es igual que `var2`, y si es así imprime `Son iguales.`\n",
    "if var1 == var2: 'si var1 es igual que var2'\n",
    "print('son iguales')"
   ]
  },
  {
   "cell_type": "code",
   "execution_count": 46,
   "metadata": {},
   "outputs": [
    {
     "name": "stdout",
     "output_type": "stream",
     "text": [
      "la diferencia es 6\n"
     ]
    }
   ],
   "source": [
    "#7.Comprueba si `var1` es mayor o igual que `var2`, y si es así calcula la diferencia entre `var1` y `var2`, guardala en la variable `dif`, e imprime `'La diferencia es',dif`. \n",
    "if var1 >= var2: 'si var1 es mayor o igual que var2'\n",
    "dif= var1-var2 \n",
    "print('la diferencia es', dif)"
   ]
  },
  {
   "cell_type": "code",
   "execution_count": 47,
   "metadata": {},
   "outputs": [
    {
     "name": "stdout",
     "output_type": "stream",
     "text": [
      "¡Es enorme!\n"
     ]
    }
   ],
   "source": [
    "#8.Comprueba si `var1` es mayor que 6, y si es así imprime `¡Es enorme!`. Si no es así imprime `Es chiquitín.`.\n",
    "\n",
    "if var1 > 6: \n",
    "    #\"si var1 es mayor que 6\"\n",
    "    print(\"¡Es enorme!\")\n",
    "else:\n",
    "    print(\"Es chiquitín\")"
   ]
  },
  {
   "cell_type": "code",
   "execution_count": 50,
   "metadata": {},
   "outputs": [
    {
     "name": "stdout",
     "output_type": "stream",
     "text": [
      "Es chiquitín también\n"
     ]
    }
   ],
   "source": [
    "#9.Comprueba si `var2` es mayor que 6, y si es así imprime `¡Es enorme también!`. Si no es así imprime `Es chiquitín también.`.\n",
    "\n",
    "if var2 > 6: \n",
    "    print(\"¡Es enorme también\")\n",
    "else:\n",
    "    print(\"Es chiquitín también\")"
   ]
  },
  {
   "cell_type": "code",
   "execution_count": 51,
   "metadata": {},
   "outputs": [
    {
     "name": "stdout",
     "output_type": "stream",
     "text": [
      "Son iguales\n"
     ]
    }
   ],
   "source": [
    "#10.Comprueba si `var1` es igual a `var3`, y si es así imprime `Son iguales.` Si no es así imprime `Son distintos.`\n",
    "\n",
    "if var1 == var3: \n",
    "    print('Son iguales')\n",
    "else:\n",
    "    print('Son distintos')"
   ]
  },
  {
   "cell_type": "code",
   "execution_count": 14,
   "metadata": {},
   "outputs": [
    {
     "name": "stdout",
     "output_type": "stream",
     "text": [
      "19\n",
      "Entrada a 10€\n"
     ]
    }
   ],
   "source": [
    "#11. Escribe un programa para una empresa que tiene salas de juegos para todas las edades y quiere calcular de forma automática el precio que debe cobrar a sus clientes por entrar. El programa debe preguntar al usuario:\n",
    "    #- La edad del cliente. \n",
    "\n",
    "edad_cliente= input('Indique su edad')\n",
    "print(edad_cliente)\n",
    "edad_cliente= int(edad_cliente)\n",
    "\n",
    "#- Las condiciones que tendremos que chequear: \n",
    "#- Si el cliente es menor de 4 años puede entrar gratis,   \n",
    "if edad_cliente < 4:\n",
    "    print(\"entrada gratuita\")\n",
    "    \n",
    "#- Si tiene entre 4 y 18 años debe pagar 5€ y  \n",
    "\n",
    "if 4 < edad_cliente <= 18:\n",
    "    print(\"Entrada a 5€\")\n",
    "        \n",
    "#- Si es mayor de 18 años, 10€\n",
    "if edad_cliente > 18: \n",
    "    print(\"Entrada a 10€\")"
   ]
  },
  {
   "cell_type": "code",
   "execution_count": 16,
   "metadata": {},
   "outputs": [
    {
     "name": "stdout",
     "output_type": "stream",
     "text": [
      "5\n",
      "10\n",
      "15\n",
      "20\n"
     ]
    }
   ],
   "source": [
    "#12. Inicia la varible `ahorros` con un valor de `5`. Crea un bucle while que mientras los ahorros sean igual o menor que `20` imprima por pantalla la cantidad de ahorros que tenemos, y añádele `5` más. Cuando la variable ahorros supere el valor de 20 el bucle deberá parar. \n",
    "ahorros = 5\n",
    "while ahorros <= 20:\n",
    "    print(ahorros)\n",
    "    ahorros += 5\n",
    "    if ahorros > 20:\n",
    "        break \n",
    "\n"
   ]
  },
  {
   "cell_type": "code",
   "execution_count": 123,
   "metadata": {},
   "outputs": [
    {
     "name": "stdout",
     "output_type": "stream",
     "text": [
      "celsius\n"
     ]
    }
   ],
   "source": [
    "#13. Escribe un programa que convierta grados Celsius a grados Fahrenheit o viceversa, según la elección del usuario. Para eso tendrás que preguntar: \n",
    "#- Desde que unidades va a convertir la temperatura, Celsius o Fahrenheit. \n",
    "seleccion_usuario= input('Eliga una de las dos opciones, por favor: Celcius o Fahrenheit')\n",
    "print(seleccion_usuario)"
   ]
  },
  {
   "cell_type": "code",
   "execution_count": 124,
   "metadata": {},
   "outputs": [
    {
     "name": "stdout",
     "output_type": "stream",
     "text": [
      "15\n"
     ]
    }
   ],
   "source": [
    "#- Cuál es valor de la temperatura que quiere convertir. \n",
    "valor= input('¿cuál es el valor de la temperatura que quiere convertir?')\n",
    "print(valor)"
   ]
  },
  {
   "cell_type": "code",
   "execution_count": 126,
   "metadata": {},
   "outputs": [
    {
     "name": "stdout",
     "output_type": "stream",
     "text": [
      "15000\n"
     ]
    }
   ],
   "source": [
    "#14.  Crea un programa que calcule el impuesto sobre la renta de una persona basado en su ingreso anual y su estado civil (soltero o casado). Para eso deberás: \n",
    "#- Solicitar al usuario su ingreso anual.\n",
    "ingreso= input('Indique su ingreso anual')\n",
    "print(ingreso)"
   ]
  },
  {
   "cell_type": "code",
   "execution_count": 128,
   "metadata": {},
   "outputs": [
    {
     "name": "stdout",
     "output_type": "stream",
     "text": [
      "S\n"
     ]
    }
   ],
   "source": [
    "#- Preguntar al usuario su estado civil, permitiendo dos opciones: \"soltero\" (S) o \"casado\" (C).\n",
    "estado_civil= input('Eliga una de las siguientes opciones: Soltero (S) o Casado (C)')\n",
    "print(estado_civil)"
   ]
  },
  {
   "cell_type": "code",
   "execution_count": 3,
   "metadata": {},
   "outputs": [
    {
     "name": "stdout",
     "output_type": "stream",
     "text": [
      "El impuesto sobre la renta es: $ 1602.5\n"
     ]
    }
   ],
   "source": [
    "#- Calcular el impuesto sobre la renta utilizando las siguientes reglas:\n",
    "#- Si el estado civil es \"soltero\" (S):\n",
    "#- Si el ingreso anual es menor o igual a $9,875, el impuesto es el 10% del ingreso anual.\n",
    "#- Si el ingreso anual está entre $9,876 y $40,125, el impuesto es el 10% de los primeros $9,875 más el 12% de la cantidad que excede los $9,875.\n",
    "#- Si el estado civil es \"casado\" (C):\n",
    "#- Si el ingreso anual es menor o igual a $19,850, el impuesto es el 10% del ingreso anual.\n",
    "#- Si el ingreso anual está entre $19,851 y $80,250, el impuesto es el 10% de los primeros $19,850 más el 12% de la cantidad que excede los $19,850.\n",
    "\n",
    "def calcular_impuesto_sobre_renta(estado_civil, ingreso_anual):\n",
    "    if estado_civil == 'soltero':\n",
    "        if ingreso_anual <= 9875:\n",
    "            impuesto = ingreso_anual * 0.10\n",
    "        elif ingreso_anual <= 40125:\n",
    "            impuesto = 987.5 + (ingreso_anual - 9875) * 0.12\n",
    "        else:\n",
    "            impuesto = 987.5 + 3630 + (ingreso_anual - 40125) * 0.22\n",
    "        return impuesto\n",
    "    elif estado_civil == 'casado':\n",
    "        if ingreso_anual <= 19850:\n",
    "            impuesto = ingreso_anual * 0.10\n",
    "        elif ingreso_anual <= 80250:\n",
    "            impuesto = 1985 + (ingreso_anual - 19850) * 0.12\n",
    "        else:\n",
    "            impuesto = 1985 + 6840 + (ingreso_anual - 80250) * 0.22\n",
    "        return impuesto\n",
    "    else:\n",
    "        return \"Estado civil no válido. Solo se admiten 'soltero' o 'casado'.\"\n",
    "\n",
    "# Ejemplo de uso:\n",
    "estado_civil = input(\"Ingrese su estado civil (soltero o casado): \").lower()\n",
    "ingreso_anual = float(input(\"Ingrese su ingreso anual: $\"))\n",
    "\n",
    "impuesto_sobre_renta = calcular_impuesto_sobre_renta(estado_civil, ingreso_anual)\n",
    "print(\"El impuesto sobre la renta es: $\", impuesto_sobre_renta)\n",
    "\n"
   ]
  },
  {
   "cell_type": "code",
   "execution_count": 6,
   "metadata": {},
   "outputs": [
    {
     "name": "stdout",
     "output_type": "stream",
     "text": [
      "Concentración de PM2.5: 23\n"
     ]
    }
   ],
   "source": [
    "#15. Crea un programa que evalúe el nivel de contaminación del aire en función de la concentración de partículas en suspensión (PM2.5) en microgramos por metro cúbico (µg/m³). Para eso deberás: \n",
    "#- Solicita al usuario que ingrese la concentración de PM2.5 en el aire en µg/m³. El usuario debe ingresar un valor numérico.\n",
    "concentracion= input('ingrese concentración de PM2.5')\n",
    "\n",
    "# Verificar si la entrada es un valor numérico entero\n",
    "if concentracion.isdigit():\n",
    "    # Convertir la entrada a un entero\n",
    "    concentracion = int(concentracion)\n",
    "    print(\"Concentración de PM2.5:\", concentracion)\n",
    "else:\n",
    "    print(\"Error: Debe ingresar un valor numérico entero.\")\n"
   ]
  },
  {
   "cell_type": "code",
   "execution_count": 12,
   "metadata": {},
   "outputs": [
    {
     "name": "stdout",
     "output_type": "stream",
     "text": [
      "La calidad del aire es:Bueno\n"
     ]
    }
   ],
   "source": [
    "#- Evalua el nivel de contaminación del aire según la siguiente escala:\n",
    "#- Si la concentración de PM2.5 es menor o igual a 12 µg/m³, el aire se considera \"Excelente\".\n",
    "# #Si la concentración de PM2.5 está entre 13 µg/m³ y 35 µg/m³, el aire se considera \"Bueno\".\n",
    "#Si la concentración de PM2.5 está entre 36 µg/m³ y 55 µg/m³, el aire se considera \"Aceptable\".\n",
    "#- Si la concentración de PM2.5 es mayor a 150 µg/m³, el aire se considera \"No Saludable\".\n",
    "#- Muestra un mensaje indicando el estado de la calidad del aire. Por ejemplo, si la concentración de PM2.5 es 25 µg/m³, el programa debe mostrar: \"La calidad del aire es Buena\".\n",
    "#-  Además, si la concentración de PM2.5 está en la categoría \"No Saludable para Grupos Sensibles\" o \"No Saludable\", el programa debe advertir al usuario sobre los posibles efectos en la salud.\n",
    "\n",
    "print('La calidad del aire es:', end= '')\n",
    "if concentracion <= 12:\n",
    "    print('Excelente')\n",
    "elif 13 <= concentracion <= 35:\n",
    "    print('Bueno')\n",
    "elif 36 <= concentracion <= 55:\n",
    "    print('Aceptable')\n",
    "elif concentracion > 150:\n",
    "    print('No saludable')\n",
    "    print('AVISO: Posibles efectos en la salud')\n",
    "\n"
   ]
  },
  {
   "cell_type": "code",
   "execution_count": 14,
   "metadata": {},
   "outputs": [
    {
     "name": "stdout",
     "output_type": "stream",
     "text": [
      "- 9\n"
     ]
    }
   ],
   "source": [
    "#- Si la concentración ingresada por el usuario es negativa o no es un número válido, el programa debe mostrar un mensaje de error.\n",
    "if concentracion < 0:\n",
    "    print('Error, no se permiten números negativos')\n",
    "else: \n",
    "    print(input('No es un número válido, ingrese nuevo valor'))"
   ]
  }
 ],
 "metadata": {
  "kernelspec": {
   "display_name": "base",
   "language": "python",
   "name": "python3"
  },
  "language_info": {
   "codemirror_mode": {
    "name": "ipython",
    "version": 3
   },
   "file_extension": ".py",
   "mimetype": "text/x-python",
   "name": "python",
   "nbconvert_exporter": "python",
   "pygments_lexer": "ipython3",
   "version": "3.9.7"
  }
 },
 "nbformat": 4,
 "nbformat_minor": 2
}
