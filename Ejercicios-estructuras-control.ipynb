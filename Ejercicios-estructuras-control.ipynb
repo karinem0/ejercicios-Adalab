{
 "cells": [
  {
   "cell_type": "code",
   "execution_count": 3,
   "metadata": {},
   "outputs": [],
   "source": [
    "import math"
   ]
  },
  {
   "cell_type": "markdown",
   "metadata": {},
   "source": [
    "# Ejercicios\n",
    "\n",
    "1. Crea una variable que sea igual a \"Python\" y genera un código que nos printee todas las letras menos la \"P\" usando la sentencia `continue`.\n"
   ]
  },
  {
   "cell_type": "code",
   "execution_count": 1,
   "metadata": {},
   "outputs": [
    {
     "name": "stdout",
     "output_type": "stream",
     "text": [
      "y\n",
      "t\n",
      "h\n",
      "o\n",
      "n\n"
     ]
    }
   ],
   "source": [
    "variable = 'Python'\n",
    "for letra in variable:\n",
    "    if letra == 'P':\n",
    "        continue\n",
    "    print(letra)\n"
   ]
  },
  {
   "cell_type": "markdown",
   "metadata": {},
   "source": [
    "\n",
    "2. De la frase `'Hello'` imprime todas las letras que no sean una `'l'` usando `if`.\n"
   ]
  },
  {
   "cell_type": "code",
   "execution_count": 3,
   "metadata": {},
   "outputs": [
    {
     "name": "stdout",
     "output_type": "stream",
     "text": [
      "H\n",
      "e\n",
      "o\n"
     ]
    }
   ],
   "source": [
    "frase = 'Hello'\n",
    "\n",
    "for letra in frase:\n",
    "    if letra == 'l':\n",
    "        continue \n",
    "    print(letra)"
   ]
  },
  {
   "cell_type": "markdown",
   "metadata": {},
   "source": [
    "Haz lo mismo que en 2 usando `continue`.\n",
    "3. De la frase `'Hello'` imprime todas las letras parando el bucle si encuentras una `'o'`."
   ]
  },
  {
   "cell_type": "code",
   "execution_count": 4,
   "metadata": {},
   "outputs": [
    {
     "name": "stdout",
     "output_type": "stream",
     "text": [
      "H\n",
      "e\n",
      "l\n",
      "l\n"
     ]
    }
   ],
   "source": [
    "for letra in frase:\n",
    "    if letra == 'o':\n",
    "        continue \n",
    "    print(letra)"
   ]
  },
  {
   "cell_type": "markdown",
   "metadata": {},
   "source": [
    "\n",
    "\n",
    "5. Define  la variable `doce = '12'` y `seis = 6`. Intenta sumarlos. En el caso de que te salga un error imprime `'¡Un error!'`. Para eso usa un `try` ... `except`\n"
   ]
  },
  {
   "cell_type": "code",
   "execution_count": 7,
   "metadata": {},
   "outputs": [
    {
     "name": "stdout",
     "output_type": "stream",
     "text": [
      "18\n"
     ]
    }
   ],
   "source": [
    "doce = '12'\n",
    "seis = '6'\n",
    "\n",
    "try: \n",
    "    suma = int(doce) + int(seis)\n",
    "    print(suma)\n",
    "\n",
    "except ValueError:\n",
    "    print('¡Un error!')"
   ]
  },
  {
   "cell_type": "markdown",
   "metadata": {},
   "source": [
    "\n",
    "6. Basándonos en el ejercicio anterior, sin usar un `try` ... `except`, ¿cómo podríamos solucionar el problema? \n"
   ]
  },
  {
   "cell_type": "code",
   "execution_count": 8,
   "metadata": {},
   "outputs": [
    {
     "name": "stdout",
     "output_type": "stream",
     "text": [
      "18\n"
     ]
    }
   ],
   "source": [
    "if doce.isdigit() and seis.isdigit():\n",
    "    suma = int(doce) + int(seis)\n",
    "    print(suma)\n",
    "else:\n",
    "    print('¡Un error!')\n"
   ]
  },
  {
   "cell_type": "markdown",
   "metadata": {},
   "source": [
    "\n",
    "7. Solicita al usuario ingresar números enteros positivos hasta que ingrese un número negativo. Luego, muestra la suma de todos los números pares ingresados.\n"
   ]
  },
  {
   "cell_type": "code",
   "execution_count": 2,
   "metadata": {},
   "outputs": [
    {
     "name": "stdout",
     "output_type": "stream",
     "text": [
      "La suma de todos los números es: 13\n",
      "La suma de los números pares es: 8\n"
     ]
    }
   ],
   "source": [
    "numeros = input('Inserte números enteros separados por espacios: ').split()  # Obtener los números como una lista de cadenas\n",
    "numeros = [int(numero) for numero in numeros]  # Convertir las cadenas en enteros\n",
    "\n",
    "suma_num = sum(numeros)  # Suma de todos los números\n",
    "\n",
    "sum_pares = 0\n",
    "\n",
    "for numero in numeros: \n",
    "    if numero < 0:\n",
    "        print('Número negativo encontrado')\n",
    "        break\n",
    "\n",
    "for numero in numeros:\n",
    "    if numero % 2 == 0:\n",
    "        sum_pares += numero\n",
    "\n",
    "print(\"La suma de todos los números es:\", suma_num)\n",
    "print(\"La suma de los números pares es:\", sum_pares)\n",
    "\n"
   ]
  },
  {
   "cell_type": "markdown",
   "metadata": {},
   "source": [
    "\n",
    "8. Solicita al usuario ingresar dos números y muestra el resultado de dividir el primero por el segundo. Asegúrate de manejar la excepción si el segundo número es cero.\n"
   ]
  },
  {
   "cell_type": "code",
   "execution_count": 3,
   "metadata": {},
   "outputs": [
    {
     "name": "stdout",
     "output_type": "stream",
     "text": [
      "El resultado de dividir el primer número por el segundo es: 0.5714285714285714\n"
     ]
    }
   ],
   "source": [
    "# Solicitar al usuario que ingrese dos números\n",
    "numero1 = float(input(\"Ingrese el primer número: \"))\n",
    "numero2 = float(input(\"Ingrese el segundo número: \"))\n",
    "\n",
    "# Verificar si el segundo número es cero antes de realizar la división\n",
    "if numero2 != 0:\n",
    "    resultado = numero1 / numero2\n",
    "    print(\"El resultado de dividir el primer número por el segundo es:\", resultado)\n",
    "else:\n",
    "    print(\"Error: No se puede dividir por cero. Por favor, ingrese un segundo número diferente de cero.\")\n"
   ]
  },
  {
   "cell_type": "code",
   "execution_count": null,
   "metadata": {},
   "outputs": [],
   "source": [
    "# Solicitar al usuario que ingrese dos números\n",
    "numero1 = float(input(\"Ingrese el primer número: \"))\n",
    "numero2 = float(input(\"Ingrese el segundo número: \"))\n",
    "\n",
    "# Manejar la excepción si el segundo número es cero\n",
    "try:\n",
    "    resultado = numero1 / numero2\n",
    "    print(\"El resultado de dividir el primer número por el segundo es:\", resultado)\n",
    "except ZeroDivisionError:\n",
    "    print(\"Error: No se puede dividir por cero. Por favor, ingrese un segundo número diferente de cero.\")\n"
   ]
  },
  {
   "cell_type": "markdown",
   "metadata": {},
   "source": [
    "\n",
    "9. Solicita al usuario ingresar un número y muestra su raíz cuadrada. Maneja la excepción si el número es negativo.\n"
   ]
  },
  {
   "cell_type": "code",
   "execution_count": 4,
   "metadata": {},
   "outputs": [
    {
     "name": "stdout",
     "output_type": "stream",
     "text": [
      "La raíz cuadrada de 6.0 es 2.449489742783178\n"
     ]
    }
   ],
   "source": [
    "try:\n",
    "    numero = float(input(\"Ingresa un número: \"))\n",
    "    if numero < 0:\n",
    "        raise ValueError(\"El número ingresado es negativo.\")\n",
    "    \n",
    "    raiz_cuadrada = math.sqrt(numero)\n",
    "    print(f\"La raíz cuadrada de {numero} es {raiz_cuadrada}\")\n",
    "\n",
    "except:\n",
    "    print(\"Ha ocurrido un error. Asegúrate de ingresar un número válido.\")"
   ]
  },
  {
   "cell_type": "markdown",
   "metadata": {},
   "source": [
    "\n",
    "10. Crea una lista de números y solicita al usuario ingresar un índice para acceder a un elemento de la lista. Maneja la excepción si el índice está fuera de rango."
   ]
  },
  {
   "cell_type": "code",
   "execution_count": 2,
   "metadata": {},
   "outputs": [
    {
     "name": "stdout",
     "output_type": "stream",
     "text": [
      "En la posición 4 corresponde a: 8\n"
     ]
    }
   ],
   "source": [
    "try:\n",
    "    lista_numeros = [3,4,6,7,8,9,19,12,16,17,20]\n",
    "    indice = int(input('Inserte un número de índice al que acceder:'))\n",
    "    if indice < 0:\n",
    "        raise ValueError('El número está fuera de rango')\n",
    "    elemento = lista_numeros[indice]\n",
    "    print(f'En la posición {indice} corresponde a: {elemento}')\n",
    "\n",
    "\n",
    "except ValueError as error:\n",
    "    print('Ha ocurrido un error:', error)\n",
    "except IndexError:\n",
    "    print('El índice está fuera de rango')\n",
    "except Exception as e:\n",
    "    print('Ha ocurrido un error inesperado:', e)\n",
    "except:\n",
    "    print('Ha ocurrido un error.Asegúrate de introducir un número dentro del rango')\n",
    "    "
   ]
  }
 ],
 "metadata": {
  "kernelspec": {
   "display_name": "base",
   "language": "python",
   "name": "python3"
  },
  "language_info": {
   "codemirror_mode": {
    "name": "ipython",
    "version": 3
   },
   "file_extension": ".py",
   "mimetype": "text/x-python",
   "name": "python",
   "nbconvert_exporter": "python",
   "pygments_lexer": "ipython3",
   "version": "3.9.7"
  }
 },
 "nbformat": 4,
 "nbformat_minor": 2
}
